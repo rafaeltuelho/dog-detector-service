{
 "cells": [
  {
   "cell_type": "markdown",
   "metadata": {},
   "source": [
    "## Test Flask App\n",
    "From the another notebook (such as `run_flask.ipynb`), you can run the flask app in a cell and test it from here using python http or `curl` statements.\n",
    "\n",
    "```python\n",
    "# run_flask.ipynb\n",
    "!FLASK_APP=wsgi.py flask run\n",
    "```"
   ]
  },
  {
   "cell_type": "code",
   "execution_count": 1,
   "metadata": {},
   "outputs": [
    {
     "name": "stdout",
     "output_type": "stream",
     "text": [
      "{\n",
      "  \"status\": \"ok\"\n",
      "}\n"
     ]
    }
   ],
   "source": [
    "!curl http://127.0.0.1:5000/status"
   ]
  },
  {
   "cell_type": "code",
   "execution_count": 2,
   "metadata": {
    "tags": []
   },
   "outputs": [
    {
     "name": "stdout",
     "output_type": "stream",
     "text": [
      "{\n",
      "  \"detections\": [\n",
      "    {\n",
      "      \"box\": {\n",
      "        \"xMax\": 0.5364789962768555, \n",
      "        \"xMin\": 0.05988074839115143, \n",
      "        \"yMax\": 0.9051147699356079, \n",
      "        \"yMin\": 0.06668737530708313\n",
      "      }, \n",
      "      \"class\": \"Dog\", \n",
      "      \"label\": \"Dog\", \n",
      "      \"score\": 0.8483346700668335\n",
      "    }, \n",
      "    {\n",
      "      \"box\": {\n",
      "        \"xMax\": 0.9758182168006897, \n",
      "        \"xMin\": 0.5251951813697815, \n",
      "        \"yMax\": 0.9843556880950928, \n",
      "        \"yMin\": 0.32391250133514404\n",
      "      }, \n",
      "      \"class\": \"Dog\", \n",
      "      \"label\": \"Dog\", \n",
      "      \"score\": 0.7970173358917236\n",
      "    }\n",
      "  ]\n",
      "}\n"
     ]
    }
   ],
   "source": [
    "!curl -X POST -H \"Content-Type: application/json\" --data \"@sample-requests/twodogs.json\" http://localhost:5000/predictions"
   ]
  },
  {
   "cell_type": "code",
   "execution_count": 3,
   "metadata": {},
   "outputs": [
    {
     "name": "stdout",
     "output_type": "stream",
     "text": [
      "{'box': {'xMax': 0.5364789962768555,\n",
      "         'xMin': 0.05988074839115143,\n",
      "         'yMax': 0.9051147699356079,\n",
      "         'yMin': 0.06668737530708313},\n",
      " 'class': 'Dog',\n",
      " 'label': 'Dog',\n",
      " 'score': 0.8483346700668335}\n",
      "{'box': {'xMax': 0.9758182168006897,\n",
      "         'xMin': 0.5251951813697815,\n",
      "         'yMax': 0.9843556880950928,\n",
      "         'yMin': 0.32391250133514404},\n",
      " 'class': 'Dog',\n",
      " 'label': 'Dog',\n",
      " 'score': 0.7970173358917236}\n"
     ]
    }
   ],
   "source": [
    "import requests\n",
    "import json\n",
    "import pprint\n",
    "\n",
    "with open (\"sample-requests/twodogs.json\", \"r\") as f:\n",
    "  data = json.load(f)\n",
    "    \n",
    "pp = pprint.PrettyPrinter(width=41, compact=True)  \n",
    "response = requests.post('http://127.0.0.1:5000/predictions', json.dumps(data))\n",
    "\n",
    "pp = pprint.PrettyPrinter(width=41, compact=True)\n",
    "last = len(response.json()['detections'])\n",
    "pp.pprint(response.json()['detections'][0])\n",
    "pp.pprint(response.json()['detections'][last-1])"
   ]
  },
  {
   "cell_type": "code",
   "execution_count": null,
   "metadata": {},
   "outputs": [],
   "source": []
  }
 ],
 "metadata": {
  "accelerator": "GPU",
  "colab": {
   "collapsed_sections": [],
   "name": "Object detection",
   "private_outputs": true,
   "provenance": [],
   "toc_visible": true
  },
  "kernelspec": {
   "display_name": "Python 3 (ipykernel)",
   "language": "python",
   "name": "python3"
  },
  "language_info": {
   "codemirror_mode": {
    "name": "ipython",
    "version": 3
   },
   "file_extension": ".py",
   "mimetype": "text/x-python",
   "name": "python",
   "nbconvert_exporter": "python",
   "pygments_lexer": "ipython3",
   "version": "3.8.6"
  }
 },
 "nbformat": 4,
 "nbformat_minor": 4
}
